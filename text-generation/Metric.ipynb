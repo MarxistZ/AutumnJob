{
 "cells": [
  {
   "cell_type": "markdown",
   "metadata": {},
   "source": [
    "## BLEU\n",
    "\n",
    "Bilingua Evaluation Understudy，\n",
    "\n",
    "比较候选翻译文章与标准翻译文章的 N-grams 的重合程度\n",
    "\n",
    "\n",
    "$$\n",
    "BLUE = BP \\times exp(\\sum W_n log(P_n)) \\\\\n",
    "BP = I(lc > lr) + exp(\\frac{lc - lr}{lc}) I(lc < lr)\n",
    "$$\n",
    "\n",
    "### 解释\n",
    "+ 多gram的综合得分\n",
    "+ W_n 是权重， 通常取 1/N\n",
    "+ P_n 是 N-grams后的precision = TP / (TP + FP)\n",
    "+ N 通常取 1~4\n",
    "+ BP 是对文章长度的惩罚，lc是机器翻译长度，lr是ground-truth长度\n",
    "+ 范围从0到1\n",
    "\n",
    "### 优缺点\n",
    "+ 计算速度快\n",
    "+ 不考虑语义句子结构，以及语法，同时对于同义词无法评估\n",
    "+ BLEU倾向于短翻译的结果， 原文建议配备多条候选ground-truth取最高分数"
   ]
  },
  {
   "cell_type": "markdown",
   "metadata": {},
   "source": [
    "## Rouge\n",
    "\n",
    "Recall-Oriented Understudy for Gisting Evaluation\n",
    "\n",
    "专注于对召回率的评估\n",
    "\n",
    "+ Rouge-N\n",
    "计算Ngrams的交集\n",
    "\n",
    "$$\n",
    "Rouge-N = \\frac{Pred_N \\cap Ground_N}{Ground_N}\n",
    "$$\n",
    "\n",
    "+ Rouge-L\n",
    "计算最长公共子序列长度,LCS\n",
    "\n",
    "$$\n",
    "Recall_L = \\frac{LCS}{len(ground)} \\\\\n",
    "Precision_L = \\frac{LCS}{len(pred)} \\\\\n",
    "F_L = \\frac{(1 + \\beta^2)RP}{R + \\beta^2P}\n",
    "$$\n",
    "\n",
    "+ Rouge-W\n",
    "\n",
    "最长公共子序列，只考虑了相对位置的关系，没考虑连续性，对连续位置进行了加权WLCS, 替换了原来的LCS\n",
    "\n",
    "$$\n",
    "X : ABCDEFG \\\\\n",
    "Y1: ABCDHIK \\\\\n",
    "Y2: AHBKCID \\\\\n",
    "$$\n",
    "\n",
    "### 优劣\n",
    "\n",
    "+ 不同rouge区别在于prediction和recall的重叠方式计算不一致\n",
    "+ 同样，难以评估语义信息，无法评估同义词。"
   ]
  },
  {
   "cell_type": "markdown",
   "metadata": {},
   "source": []
  }
 ],
 "metadata": {
  "kernelspec": {
   "display_name": "Python 3.9.12 ('pytorch')",
   "language": "python",
   "name": "python3"
  },
  "language_info": {
   "name": "python",
   "version": "3.9.12"
  },
  "orig_nbformat": 4,
  "vscode": {
   "interpreter": {
    "hash": "b7f1921b1fbb71754222b4d20cc599512d1d63c0fd1f35d5384b604be464d750"
   }
  }
 },
 "nbformat": 4,
 "nbformat_minor": 2
}
