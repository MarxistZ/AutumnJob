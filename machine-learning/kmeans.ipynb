{
 "cells": [
  {
   "cell_type": "code",
   "execution_count": 45,
   "metadata": {},
   "outputs": [],
   "source": [
    "import numpy as np \n",
    "points = np.vstack(((np.random.randn(150, 2) * 0.75 + np.array([1, 0])),\n",
    "                  (np.random.randn(50, 2) * 0.25 + np.array([-0.5, 0.5])),\n",
    "                  (np.random.randn(50, 2) * 0.5 + np.array([-0.5, -0.5]))))"
   ]
  },
  {
   "cell_type": "code",
   "execution_count": 46,
   "metadata": {},
   "outputs": [],
   "source": [
    "def initialize_centroids(points, k):\n",
    "    \"\"\"returns k centroids from the initial points\"\"\"\n",
    "    centroids = points.copy()\n",
    "    np.random.shuffle(centroids)\n",
    "    return centroids[:k]"
   ]
  },
  {
   "cell_type": "code",
   "execution_count": 47,
   "metadata": {},
   "outputs": [],
   "source": [
    "# points: N * d\n",
    "# centroids: k * d\n",
    "def closest_centroid(points, centroids):\n",
    "    \"\"\"return the closest centroids\"\"\"\n",
    "    distance = np.sqrt(np.square(points[np.newaxis,...] - centroids[:,np.newaxis]).sum(axis=2))\n",
    "    return np.argmin(distance, axis=0)"
   ]
  },
  {
   "cell_type": "code",
   "execution_count": 48,
   "metadata": {},
   "outputs": [],
   "source": [
    "def move_centroids(points, centroids, closest):\n",
    "    \"\"\"update centroids\"\"\"\n",
    "    updated_centroids = []\n",
    "    for k in range(centroids.shape[0]):\n",
    "        updated_centroids.append(points[closest == k,:].mean(axis=0))\n",
    "    return np.vstack(updated_centroids)"
   ]
  },
  {
   "cell_type": "code",
   "execution_count": 49,
   "metadata": {},
   "outputs": [],
   "source": [
    "def WWSM(points, centroids, closest):\n",
    "    \"\"\"  \"\"\"\n",
    "    # points N * d\n",
    "    # centroids k * d\n",
    "    # closest N\n",
    "    res = 0\n",
    "    for k in range(centroids.shape[0]):\n",
    "        dist = np.sqrt(((points[closest == k,:] - centroids[k,:])**2).sum(axis=-1)).mean(axis=0)\n",
    "        res += dist\n",
    "    return res"
   ]
  },
  {
   "cell_type": "code",
   "execution_count": 80,
   "metadata": {},
   "outputs": [],
   "source": [
    "def fit(points, k, eps):\n",
    "    centroids = initialize_centroids(points, k)\n",
    "    closest = closest_centroid(points, centroids)\n",
    "    prev = closest + 100\n",
    "    while True:\n",
    "        closest = closest_centroid(points, centroids)\n",
    "        centroids = move_centroids(points, centroids, closest)\n",
    "        if np.sum(prev == closest) / closest.shape[0] >  1 - eps:\n",
    "            break\n",
    "        prev = closest\n",
    "        print(WWSM(points, centroids, closest))\n",
    "    return centroids, WWSM(points, centroids, closest)"
   ]
  },
  {
   "cell_type": "code",
   "execution_count": 84,
   "metadata": {},
   "outputs": [
    {
     "name": "stdout",
     "output_type": "stream",
     "text": [
      "4.105544557908495\n",
      "4.004051902113315\n",
      "3.8573030988485084\n",
      "3.7313833607868596\n",
      "3.64874697852526\n",
      "3.589107350238372\n",
      "3.593052073264886\n",
      "3.593689825457206\n",
      "3.5920748957768023\n",
      "3.591375824760367\n",
      "3.5882545520887064\n",
      "3.585247262758899\n",
      "3.5815308096746707\n"
     ]
    },
    {
     "data": {
      "text/plain": [
       "(array([[-0.8073919 , -0.60212976],\n",
       "        [ 0.59248482,  0.136477  ],\n",
       "        [ 1.07327096, -1.4094164 ],\n",
       "        [ 0.82138418,  1.09118977],\n",
       "        [-0.33945092,  0.15242423],\n",
       "        [ 1.79716692,  0.61942885],\n",
       "        [-0.67029524,  0.54505877],\n",
       "        [ 1.24657722, -0.4243448 ],\n",
       "        [ 2.19533952, -0.4427906 ],\n",
       "        [ 0.19350729, -0.66008546]]),\n",
       " 3.5815308096746707)"
      ]
     },
     "execution_count": 84,
     "metadata": {},
     "output_type": "execute_result"
    }
   ],
   "source": [
    "fit(points, 10, 1e-10)"
   ]
  },
  {
   "cell_type": "code",
   "execution_count": null,
   "metadata": {},
   "outputs": [],
   "source": []
  }
 ],
 "metadata": {
  "kernelspec": {
   "display_name": "Python 3.9.12 ('pytorch')",
   "language": "python",
   "name": "python3"
  },
  "language_info": {
   "codemirror_mode": {
    "name": "ipython",
    "version": 3
   },
   "file_extension": ".py",
   "mimetype": "text/x-python",
   "name": "python",
   "nbconvert_exporter": "python",
   "pygments_lexer": "ipython3",
   "version": "3.9.12"
  },
  "orig_nbformat": 4,
  "vscode": {
   "interpreter": {
    "hash": "383cf4933215442d06e1727e9b383698ad4ab76da0669309b3bf0ba0101f0eb0"
   }
  }
 },
 "nbformat": 4,
 "nbformat_minor": 2
}
